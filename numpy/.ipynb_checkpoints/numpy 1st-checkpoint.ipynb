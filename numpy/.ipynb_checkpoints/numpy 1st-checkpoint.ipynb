{
 "cells": [
  {
   "cell_type": "code",
   "execution_count": 5,
   "id": "79c095b7",
   "metadata": {},
   "outputs": [
    {
     "name": "stdout",
     "output_type": "stream",
     "text": [
      "[1 2 3 4 5 6]\n",
      "<class 'numpy.ndarray'>\n",
      "1.23.5\n",
      "[1 2 3 4 5 6]\n",
      "<class 'numpy.ndarray'>\n"
     ]
    }
   ],
   "source": [
    "import numpy as np\n",
    "arr = np.array([1,2,3,4,5,6])\n",
    "print(arr)\n",
    "print(type(arr))\n",
    "print(np.__version__)\n",
    "\n",
    "#creating tuple using array\n",
    "arr = np.array((1,2,3,4,5,6))\n",
    "print(arr)\n",
    "print(type(arr))\n",
    "\n"
   ]
  },
  {
   "cell_type": "code",
   "execution_count": 27,
   "id": "d86a98da",
   "metadata": {},
   "outputs": [],
   "source": [
    "#copy() vs view()\n",
    "import numpy as np "
   ]
  },
  {
   "cell_type": "code",
   "execution_count": 21,
   "id": "404513c7",
   "metadata": {},
   "outputs": [
    {
     "name": "stdout",
     "output_type": "stream",
     "text": [
      "0\n",
      "1\n",
      "2\n",
      "3\n",
      "4\n",
      "1\n",
      "5\n",
      "3\n",
      "4\n"
     ]
    }
   ],
   "source": [
    "a = np.array(41)\n",
    "b = np.array([1,2,3,4,5,6])\n",
    "c = np.array([[1,2,3,4,5,6],[1,2,3,4,5,6]])\n",
    "d = np.array([[[1,2,3,4,5,6],[1,2,3,4,5,6]],[[1,2,3,4,5,6],[1,2,3,4,5,6]]])\n",
    "e = np.array([[[[1,2,3,4,5,6],[1,2,3,4,5,6]],[[1,2,3,4,5,6],[1,2,3,4,5,6]],[[1,2,3,4,5,6],[1,2,3,4,5,6]]]])\n",
    "\n",
    "#print dimenssions\n",
    "print(a.ndim)\n",
    "print(b.ndim)\n",
    "print(c.ndim)\n",
    "print(d.ndim)\n",
    "print(e.ndim)\n",
    "\n",
    "#print array elements\n",
    "print(b[0])\n",
    "print(c[1,4])\n",
    "print(d[0,1,2])\n",
    "print(e[0,1,1,3])"
   ]
  },
  {
   "cell_type": "code",
   "execution_count": 26,
   "id": "c9f00f66",
   "metadata": {},
   "outputs": [
    {
     "name": "stdout",
     "output_type": "stream",
     "text": [
      "[1.1 2.3 3.1 4.1]\n",
      "float64\n",
      "[1 2 3 4]\n",
      "int32\n",
      "[ True  True  True  True]\n",
      "bool\n"
     ]
    }
   ],
   "source": [
    "#converting array from one type to another type\n",
    "import numpy as np\n",
    "\n",
    "arr = np.array([1.1,2.3,3.1,4.1])\n",
    "print(arr)\n",
    "print(arr.dtype)\n",
    "\n",
    "newarr = arr.astype('i')\n",
    "print(newarr)\n",
    "print(newarr.dtype)\n",
    "\n",
    "newArr = arr.astype(bool)\n",
    "print(newArr)\n",
    "print(newArr.dtype)"
   ]
  },
  {
   "cell_type": "code",
   "execution_count": 30,
   "id": "15674aa9",
   "metadata": {},
   "outputs": [
    {
     "name": "stdout",
     "output_type": "stream",
     "text": [
      "[40  2  3  4  5]\n",
      "[1 2 3 4 5]\n",
      "[40  2  3  4  5]\n",
      "[40  2  3  4  5]\n"
     ]
    }
   ],
   "source": [
    "#copy vs view()\n",
    "import numpy as np\n",
    "arr = np.array([1,2,3,4,5])\n",
    "\n",
    "a = arr.copy()\n",
    "arr[0] = 40\n",
    "print(arr)\n",
    "print(a)\n",
    "\n",
    "arr = np.array([1,2,3,4,5])\n",
    "a = arr.view()\n",
    "arr[0] = 40\n",
    "print(arr)\n",
    "print(a)"
   ]
  },
  {
   "cell_type": "code",
   "execution_count": 54,
   "id": "f7ff07d2",
   "metadata": {},
   "outputs": [
    {
     "name": "stdout",
     "output_type": "stream",
     "text": [
      "(2, 4)\n",
      "\n",
      "\n",
      "(1, 3, 4)\n",
      "\n",
      "\n",
      "[[[1 2 3 4]\n",
      "  [5 6 2 1]\n",
      "  [2 3 4 2]\n",
      "  [1 1 4 3]]\n",
      "\n",
      " [[1 2 1 2]\n",
      "  [1 2 1 2]\n",
      "  [1 2 1 2]\n",
      "  [1 2 1 2]]]\n",
      "\n",
      "\n",
      "[1 2 3 4 1 2 3 4 1 2 3 4]\n"
     ]
    }
   ],
   "source": [
    "#shape()\n",
    "arr = np.array([[1,2,3,4],[1,2,3,4]])\n",
    "print(arr.shape)\n",
    "print(\"\\n\")\n",
    "\n",
    "arr = np.array([[[1,2,3,4],[1,2,3,4],[1,2,3,4]]])\n",
    "print(arr.shape)\n",
    "print(\"\\n\")\n",
    "\n",
    "#reshape()\n",
    "arr = np.array([1,2,3,4,5,6,2,1,2,3,4,2,1,1,4,3,1,2,1,2,1,2,1,2,1,2,1,2,1,2,1,2])\n",
    "a=arr.reshape(2,4,4)\n",
    "print(a)\n",
    "print(\"\\n\")\n",
    "\n",
    "#flattening the array\n",
    "arr = np.array([[[1,2,3,4],[1,2,3,4],[1,2,3,4]]])\n",
    "print(arr.reshape(-1))"
   ]
  },
  {
   "cell_type": "code",
   "execution_count": 61,
   "id": "ba27b247",
   "metadata": {},
   "outputs": [
    {
     "name": "stdout",
     "output_type": "stream",
     "text": [
      "[ 1  2  3  4  5  6  7  8  9 10]\n",
      "\n",
      "\n",
      "[[ 1  2  3  4  5]\n",
      " [ 6  7  8  9 10]]\n",
      "\n",
      "\n",
      "[[[ 1  6]\n",
      "  [ 2  7]\n",
      "  [ 3  8]\n",
      "  [ 4  9]\n",
      "  [ 5 10]]]\n",
      "\n",
      "\n"
     ]
    }
   ],
   "source": [
    "#hstack vs vstack vs dstack\n",
    "arr1 = np.array([1,2,3,4,5])\n",
    "arr2 = np.array([6,7,8,9,10])\n",
    "arr = np.hstack((arr1,arr2))\n",
    "print(arr)\n",
    "print('\\n')\n",
    "\n",
    "arr1 = np.array([1,2,3,4,5])\n",
    "arr2 = np.array([6,7,8,9,10])\n",
    "arr = np.vstack((arr1,arr2))\n",
    "print(arr)\n",
    "print('\\n')\n",
    "\n",
    "arr1 = np.array([1,2,3,4,5])\n",
    "arr2 = np.array([6,7,8,9,10])\n",
    "arr = np.dstack((arr1,arr2))\n",
    "print(arr)\n",
    "print('\\n')"
   ]
  },
  {
   "cell_type": "code",
   "execution_count": 62,
   "id": "fd0c4381",
   "metadata": {},
   "outputs": [
    {
     "name": "stdout",
     "output_type": "stream",
     "text": [
      "[array([1, 2]), array([3, 4]), array([5, 6])]\n"
     ]
    }
   ],
   "source": [
    "#splitting the array\n",
    "import numpy as np\n",
    "arr = np.array([1,2,3,4,5,6])\n",
    "newarr = np.array_split(arr,3)\n",
    "print(newarr)"
   ]
  },
  {
   "cell_type": "code",
   "execution_count": 79,
   "id": "b24959cb",
   "metadata": {},
   "outputs": [
    {
     "name": "stdout",
     "output_type": "stream",
     "text": [
      "(array([1, 3, 5], dtype=int64),)\n",
      "(array([0, 2, 4], dtype=int64),)\n",
      "(array([], dtype=int64),)\n",
      "[ 1  5 13 16 21 42]\n",
      "5\n"
     ]
    }
   ],
   "source": [
    "#array searching \n",
    "import numpy as np\n",
    "arr = np.array([1,2,3,4,5,6])\n",
    "a = np.where(arr%2==0)\n",
    "print(a)\n",
    "\n",
    "arr = np.array([1,2,3,4,5,6])\n",
    "a = np.where(arr%2==1)\n",
    "print(a)\n",
    "a=np.where(arr==7)\n",
    "print(a)\n",
    "\n",
    "#serach sort\n",
    "arr = np.array([1 , 5, 13, 16, 21, 42])\n",
    "a = np.sort(arr)\n",
    "print(a)\n",
    "\n",
    "a = np.searchsorted(arr,42)\n",
    "print(a)\n",
    "\n"
   ]
  },
  {
   "cell_type": "code",
   "execution_count": 84,
   "id": "f3112fec",
   "metadata": {},
   "outputs": [
    {
     "name": "stdout",
     "output_type": "stream",
     "text": [
      "[False, True, True, True, True, False]\n",
      "[45 43 46 43]\n"
     ]
    }
   ],
   "source": [
    "#filter array\n",
    "import numpy as np\n",
    "arr = np.array([41 , 45, 43, 46, 43, 42])\n",
    "filter_arr = []\n",
    "\n",
    "for element in arr :\n",
    "    if element>42:\n",
    "        filter_arr.append(True)\n",
    "    else :\n",
    "        filter_arr.append(False)\n",
    "        \n",
    "newarr = arr[filter_arr]\n",
    "print(filter_arr)\n",
    "print(newarr)\n"
   ]
  },
  {
   "cell_type": "code",
   "execution_count": 85,
   "id": "d7ebfc7e",
   "metadata": {},
   "outputs": [
    {
     "name": "stdout",
     "output_type": "stream",
     "text": [
      "[False False  True  True]\n",
      "[43 44]\n"
     ]
    }
   ],
   "source": [
    "import numpy as np\n",
    "\n",
    "arr = np.array([41, 42, 43, 44])\n",
    "\n",
    "filter_arr = arr > 42\n",
    "\n",
    "newarr = arr[filter_arr]\n",
    "\n",
    "print(filter_arr)\n",
    "print(newarr)"
   ]
  },
  {
   "cell_type": "code",
   "execution_count": null,
   "id": "ec8107df",
   "metadata": {},
   "outputs": [],
   "source": []
  }
 ],
 "metadata": {
  "kernelspec": {
   "display_name": "Python 3 (ipykernel)",
   "language": "python",
   "name": "python3"
  },
  "language_info": {
   "codemirror_mode": {
    "name": "ipython",
    "version": 3
   },
   "file_extension": ".py",
   "mimetype": "text/x-python",
   "name": "python",
   "nbconvert_exporter": "python",
   "pygments_lexer": "ipython3",
   "version": "3.10.9"
  }
 },
 "nbformat": 4,
 "nbformat_minor": 5
}
